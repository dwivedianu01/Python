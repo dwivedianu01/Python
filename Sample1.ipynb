{
  "nbformat": 4,
  "nbformat_minor": 0,
  "metadata": {
    "colab": {
      "name": "Untitled0.ipynb",
      "provenance": [],
      "collapsed_sections": [],
      "authorship_tag": "ABX9TyPc7m9niYzS4KYD6IxU1VK2",
      "include_colab_link": true
    },
    "kernelspec": {
      "name": "python3",
      "display_name": "Python 3"
    }
  },
  "cells": [
    {
      "cell_type": "markdown",
      "metadata": {
        "id": "view-in-github",
        "colab_type": "text"
      },
      "source": [
        "<a href=\"https://colab.research.google.com/github/dwivedianu01/Python/blob/main/Sample1.ipynb\" target=\"_parent\"><img src=\"https://colab.research.google.com/assets/colab-badge.svg\" alt=\"Open In Colab\"/></a>"
      ]
    },
    {
      "cell_type": "code",
      "metadata": {
        "id": "gHgOZbmicg8I",
        "outputId": "ca82ef62-87fa-4158-911f-8325a04f01bc",
        "colab": {
          "base_uri": "https://localhost:8080/",
          "height": 52
        }
      },
      "source": [
        "a= int(input('Please enter a no '))\n",
        "if a%2 == 0:\n",
        "  print(\"No is Even\")\n",
        "else:\n",
        "  print(\"a is greater than b\")\n",
        " \n"
      ],
      "execution_count": 19,
      "outputs": [
        {
          "output_type": "stream",
          "text": [
            "Please enter a no 1\n",
            "a is greater than b\n"
          ],
          "name": "stdout"
        }
      ]
    }
  ]
}